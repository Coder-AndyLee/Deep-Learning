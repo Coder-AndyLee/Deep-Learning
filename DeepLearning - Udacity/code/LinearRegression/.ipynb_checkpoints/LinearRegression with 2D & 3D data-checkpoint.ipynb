{
 "cells": [
  {
   "cell_type": "code",
   "execution_count": 1,
   "metadata": {},
   "outputs": [],
   "source": [
    "%matplotlib inline\n",
    "\n",
    "# Imports\n",
    "import matplotlib.pyplot as plt\n",
    "import matplotlib as mpl\n",
    "import pandas as pd\n",
    "import seaborn as sns\n",
    "import sklearn\n",
    "import numpy as np"
   ]
  },
  {
   "cell_type": "markdown",
   "metadata": {},
   "source": [
    "# Regression with 2 variables\n",
    "\n",
    "### 1. Import and visualize data"
   ]
  },
  {
   "cell_type": "code",
   "execution_count": 2,
   "metadata": {},
   "outputs": [],
   "source": [
    "df = pd.read_csv('challenge_dataset.txt', names=['X','Y'])"
   ]
  },
  {
   "cell_type": "code",
   "execution_count": 3,
   "metadata": {},
   "outputs": [
    {
     "data": {
      "image/png": "[encoded data removed]",
      "text/plain": [
       "<matplotlib.figure.Figure at 0x9f87278>"
      ]
     },
     "metadata": {},
     "output_type": "display_data"
    }
   ],
   "source": [
    "sns.regplot(x='X', y='Y', data=df, fit_reg=False)\n",
    "plt.show()"
   ]
  },
  {
   "cell_type": "markdown",
   "metadata": {},
   "source": [
    "### 2. 2D Regression"
   ]
  },
  {
   "cell_type": "code",
   "execution_count": 4,
   "metadata": {},
   "outputs": [],
   "source": [
    "from sklearn.model_selection import train_test_split\n",
    "\n",
    "X_train, X_test, y_train, y_test = np.asarray(train_test_split(df['X'], df['Y'], test_size=0.1))"
   ]
  },
  {
   "cell_type": "code",
   "execution_count": 5,
   "metadata": {},
   "outputs": [
    {
     "data": {
      "text/plain": [
       "LinearRegression(copy_X=True, fit_intercept=True, n_jobs=1, normalize=False)"
      ]
     },
     "execution_count": 5,
     "metadata": {},
     "output_type": "execute_result"
    }
   ],
   "source": [
    "from sklearn.linear_model import LinearRegression\n",
    "\n",
    "reg = LinearRegression()\n",
    "reg.fit(X_train.values.reshape(-1,1), y_train.values.reshape(-1,1))"
   ]
  },
  {
   "cell_type": "code",
   "execution_count": 6,
   "metadata": {},
   "outputs": [
    {
     "name": "stdout",
     "output_type": "stream",
     "text": [
      "Score:  0.524289286117\n"
     ]
    }
   ],
   "source": [
    "print('Score: ', reg.score(X_test.values.reshape(-1,1), y_test.values.reshape(-1,1)))"
   ]
  },
  {
   "cell_type": "markdown",
   "metadata": {},
   "source": [
    "## 3. Plot regression and visualize results"
   ]
  },
  {
   "cell_type": "code",
   "execution_count": 7,
   "metadata": {
    "scrolled": true
   },
   "outputs": [
    {
     "data": {
      "image/png": "[encoded data removed]",
      "text/plain": [
       "<matplotlib.figure.Figure at 0xa750588>"
      ]
     },
     "metadata": {},
     "output_type": "display_data"
    }
   ],
   "source": [
    "x_line = np.arange(5,25).reshape(-1,1)\n",
    "sns.regplot(x=df['X'], y=df['Y'], data=df, fit_reg=False)\n",
    "plt.plot(x_line, reg.predict(x_line))\n",
    "plt.show()"
   ]
  },
  {
   "cell_type": "markdown",
   "metadata": {},
   "source": [
    "# 3 Variables\n",
    "### 1. Data preprocessing"
   ]
  },
  {
   "cell_type": "code",
   "execution_count": 13,
   "metadata": {},
   "outputs": [
    {
     "name": "stdout",
     "output_type": "stream",
     "text": [
      "   Year  Total  Gas Fuel  Liquid Fuel  Solid Fuel  Cement  Gas Flaring  \\\n",
      "0  1751      3         0            0           3       0            0   \n",
      "1  1752      3         0            0           3       0            0   \n",
      "2  1753      3         0            0           3       0            0   \n",
      "3  1754      3         0            0           3       0            0   \n",
      "4  1755      3         0            0           3       0            0   \n",
      "\n",
      "   Per Capita  \n",
      "0         NaN  \n",
      "1         NaN  \n",
      "2         NaN  \n",
      "3         NaN  \n",
      "4         NaN  \n",
      "    Source  Year    Mean\n",
      "0     GCAG  2015  0.8990\n",
      "1  GISTEMP  2015  0.8700\n",
      "2     GCAG  2014  0.7402\n",
      "3  GISTEMP  2014  0.7500\n",
      "4     GCAG  2013  0.6687\n"
     ]
    }
   ],
   "source": [
    "# Import data\n",
    "co2_df = pd.read_csv('global_co2.csv')\n",
    "temp_df = pd.read_csv('annual_temp.csv')\n",
    "print(co2_df.head())\n",
    "print(temp_df.head())"
   ]
  },
  {
   "cell_type": "markdown",
   "metadata": {},
   "source": [
    "### Clean data"
   ]
  },
  {
   "cell_type": "code",
   "execution_count": 9,
   "metadata": {},
   "outputs": [
    {
     "name": "stdout",
     "output_type": "stream",
     "text": [
      "   Year   CO2\n",
      "0  1960  2569\n",
      "1  1961  2580\n",
      "2  1962  2686\n",
      "3  1963  2833\n",
      "4  1964  2995\n"
     ]
    }
   ],
   "source": [
    "co2_df = co2_df.iloc[:,:2]                     # Keep only total CO2\n",
    "co2_df = co2_df.loc[co2_df['Year'] >= 1960]    # Keep only 1960 - 2010\n",
    "co2_df.columns=['Year','CO2']                  # Rename columns\n",
    "co2_df = co2_df.reset_index(drop=True)                # Reset index\n",
    "\n",
    "print(co2_df.head())"
   ]
  },
  {
   "cell_type": "code",
   "execution_count": 21,
   "metadata": {},
   "outputs": [
    {
     "name": "stdout",
     "output_type": "stream",
     "text": [
      "   Year  Temperature\n",
      "0  1960       0.0252\n",
      "1  1961       0.0818\n",
      "2  1962       0.0924\n",
      "3  1963       0.1100\n",
      "4  1964      -0.1461\n"
     ]
    }
   ],
   "source": [
    "temp_df = pd.read_csv('annual_temp.csv')\n",
    "temp_df = temp_df[temp_df.Source != 'GISTEMP']                           # Keep only one source\n",
    "temp_df.drop('Source', inplace=True, axis=1)                             # Drop name of source\n",
    "temp_df = temp_df.reindex(index=temp_df.index[::-1])                     # Reset index，for the filter below\n",
    "temp_df = temp_df.loc[temp_df['Year'] >= 1960].loc[temp_df['Year'] <= 2010]   # Keep only 1960 - 2010\n",
    "temp_df.columns=['Year','Temperature']                                   # Rename columns\n",
    "temp_df = temp_df.reset_index(drop=True)                                 # Reset index\n",
    "\n",
    "print(temp_df.head())"
   ]
  }
 ],
 "metadata": {
  "kernelspec": {
   "display_name": "Python 3",
   "language": "python",
   "name": "python3"
  },
  "language_info": {
   "codemirror_mode": {
    "name": "ipython",
    "version": 3
   },
   "file_extension": ".py",
   "mimetype": "text/x-python",
   "name": "python",
   "nbconvert_exporter": "python",
   "pygments_lexer": "ipython3",
   "version": "3.5.4"
  }
 },
 "nbformat": 4,
 "nbformat_minor": 2
}
